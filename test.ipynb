{
 "cells": [
  {
   "cell_type": "code",
   "execution_count": 1,
   "metadata": {},
   "outputs": [],
   "source": [
    "from scipy.io import loadmat"
   ]
  },
  {
   "cell_type": "code",
   "execution_count": 22,
   "metadata": {},
   "outputs": [],
   "source": [
    "noisy_12 = loadmat(\"data/My_noisy_H_12.mat\")['My_noisy_H']\n",
    "noisy_22 = loadmat(\"data/My_noisy_H_22.mat\")['My_noisy_H']\n",
    "perfect = loadmat(\"data/Perfect_H_40000.mat\")['My_perfect_H']"
   ]
  },
  {
   "cell_type": "code",
   "execution_count": 24,
   "metadata": {},
   "outputs": [
    {
     "name": "stdout",
     "output_type": "stream",
     "text": [
      "(40000, 72, 14)\n",
      "(40000, 72, 14)\n",
      "(40000, 72, 14)\n"
     ]
    }
   ],
   "source": [
    "print(noisy_12.shape)\n",
    "print(noisy_22.shape)\n",
    "print(perfect.shape)"
   ]
  }
 ],
 "metadata": {
  "kernelspec": {
   "display_name": ".venv_win",
   "language": "python",
   "name": "python3"
  },
  "language_info": {
   "codemirror_mode": {
    "name": "ipython",
    "version": 3
   },
   "file_extension": ".py",
   "mimetype": "text/x-python",
   "name": "python",
   "nbconvert_exporter": "python",
   "pygments_lexer": "ipython3",
   "version": "3.12.7"
  }
 },
 "nbformat": 4,
 "nbformat_minor": 2
}
