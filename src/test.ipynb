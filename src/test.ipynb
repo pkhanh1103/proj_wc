{
 "cells": [
  {
   "cell_type": "code",
   "execution_count": 8,
   "metadata": {},
   "outputs": [],
   "source": [
    "import numpy as np\n",
    "import matplotlib.pyplot as plt"
   ]
  },
  {
   "cell_type": "markdown",
   "metadata": {},
   "source": [
    "### Test Tensorflow GPU"
   ]
  },
  {
   "cell_type": "code",
   "execution_count": 2,
   "metadata": {},
   "outputs": [
    {
     "data": {
      "text/plain": [
       "[PhysicalDevice(name='/physical_device:GPU:0', device_type='GPU')]"
      ]
     },
     "execution_count": 2,
     "metadata": {},
     "output_type": "execute_result"
    }
   ],
   "source": [
    "import tensorflow as tf\n",
    "\n",
    "tf.config.list_physical_devices('GPU')"
   ]
  },
  {
   "cell_type": "markdown",
   "metadata": {},
   "source": [
    "### Giảm kích thước dữ liệu\n",
    "\n",
    "Giảm 40000 mẫu xuống 10000 mẫu"
   ]
  },
  {
   "cell_type": "code",
   "execution_count": null,
   "metadata": {},
   "outputs": [],
   "source": [
    "from scipy.io import loadmat, savemat\n",
    "\n",
    "perfect = loadmat(\"data/Perfect_H_40000.mat\")['My_perfect_H']\n",
    "noisy_input_12 = loadmat(\"data/My_noisy_H_12_40000.mat\")[\"My_noisy_H\"]\n",
    "noisy_input_22 = loadmat(\"data/My_noisy_H_22_40000.mat\")[\"My_noisy_H\"]"
   ]
  },
  {
   "cell_type": "code",
   "execution_count": 5,
   "metadata": {},
   "outputs": [],
   "source": [
    "savemat(\"data/Perfect_H_10000.mat\", {'My_perfect_H': perfect[:10000]})\n",
    "savemat(\"data/My_noisy_H_12_10000.mat\", {'My_noisy_H': noisy_input_12[:10000]})\n",
    "savemat(\"data/My_noisy_H_22_10000.mat\", {'My_noisy_H': noisy_input_22[:10000]})"
   ]
  },
  {
   "cell_type": "code",
   "execution_count": 13,
   "metadata": {},
   "outputs": [],
   "source": [
    "perfect_10k = loadmat(\"data/Perfect_H_10000.mat\")['My_perfect_H']\n",
    "noisy_12_10k = loadmat(\"data/My_noisy_H_12_10000.mat\")[\"My_noisy_H\"]"
   ]
  },
  {
   "cell_type": "code",
   "execution_count": 12,
   "metadata": {},
   "outputs": [
    {
     "data": {
      "image/png": "[encoded data removed]",
      "text/plain": [
       "<Figure size 640x480 with 1 Axes>"
      ]
     },
     "metadata": {},
     "output_type": "display_data"
    }
   ],
   "source": [
    "plt.hist(np.abs(noisy_12_10k[0, :, :]))\n",
    "plt.show()"
   ]
  }
 ],
 "metadata": {
  "kernelspec": {
   "display_name": "base",
   "language": "python",
   "name": "python3"
  },
  "language_info": {
   "codemirror_mode": {
    "name": "ipython",
    "version": 3
   },
   "file_extension": ".py",
   "mimetype": "text/x-python",
   "name": "python",
   "nbconvert_exporter": "python",
   "pygments_lexer": "ipython3",
   "version": "3.12.7"
  }
 },
 "nbformat": 4,
 "nbformat_minor": 2
}
