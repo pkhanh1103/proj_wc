{
 "cells": [
  {
   "cell_type": "code",
   "execution_count": 5,
   "metadata": {},
   "outputs": [],
   "source": [
    "import numpy as np\n",
    "from scipy.io import loadmat\n",
    "import matplotlib.pyplot as plt\n",
    "from scipy.linalg import toeplitz\n",
    "from numpy.linalg import inv\n",
    "from sklearn.metrics import mean_squared_error"
   ]
  },
  {
   "cell_type": "code",
   "execution_count": 10,
   "metadata": {},
   "outputs": [],
   "source": [
    "noisy_12 = loadmat(\"data/My_noisy_H_12.mat\")['My_noisy_H']\n",
    "noisy_22 = loadmat(\"data/My_noisy_H_22.mat\")['My_noisy_H']\n",
    "perfect = loadmat(\"data/Perfect_H_40000.mat\")['My_perfect_H']"
   ]
  },
  {
   "cell_type": "code",
   "execution_count": 77,
   "metadata": {},
   "outputs": [],
   "source": [
    "def mmse_channel_estimation(H_pilot, X_pilot, noise_var, num_pilots):\n",
    "    R_hh = toeplitz(np.exp(-0.1 * np.arange(num_pilots)))  # Ma trận tương quan\n",
    "    R_yh = R_hh[:, :len(X_pilot)]  # Ma trận tương quan kênh với pilot\n",
    "    R_yy = R_yh.T @ R_hh + noise_var * np.eye(len(X_pilot)) # Ma trận tương quan của tín hiệu nhận được\n",
    "\n",
    "    # Ước lượng MMSE\n",
    "    H_mmse = R_yh @ inv(R_yy) @ H_pilot\n",
    "    return H_mmse"
   ]
  },
  {
   "cell_type": "code",
   "execution_count": 26,
   "metadata": {},
   "outputs": [],
   "source": [
    "n_subcarriers = 72\n",
    "num_pilots = 24\n",
    "num_timeslots = 14\n",
    "SNR_dB = np.arange(0, 30, 5)\n",
    "mse_mmse = []\n",
    "mse_deep = []"
   ]
  },
  {
   "cell_type": "code",
   "execution_count": 63,
   "metadata": {},
   "outputs": [],
   "source": [
    "snr = 0\n",
    "noise_var = 10 ** (-snr / 10)\n",
    "\n",
    "# Pilot và kênh truyền tại vị trí pilot\n",
    "pilot_idx = np.linspace(0, n_subcarriers - 1, num_pilots).astype(int)\n",
    "X_pilot = np.ones(num_pilots)  # Pilot giả sử là tín hiệu 1\n",
    "H_pilot = perfect[:, pilot_idx] \\\n",
    "    + np.sqrt(noise_var / 2) * (np.random.randn(perfect.shape[0], num_pilots, num_timeslots) \\\n",
    "                                + 1j * np.random.randn(perfect.shape[0], num_pilots, num_timeslots))\n",
    "\n",
    "# Ước lượng kênh bằng MMSE\n",
    "H_mmse = mmse_channel_estimation(H_pilot[0], X_pilot, noise_var, num_pilots)"
   ]
  },
  {
   "cell_type": "code",
   "execution_count": 79,
   "metadata": {},
   "outputs": [
    {
     "data": {
      "text/plain": [
       "(40000, 24, 14)"
      ]
     },
     "execution_count": 79,
     "metadata": {},
     "output_type": "execute_result"
    }
   ],
   "source": [
    "H_mmse.shape"
   ]
  },
  {
   "cell_type": "code",
   "execution_count": 73,
   "metadata": {},
   "outputs": [
    {
     "name": "stdout",
     "output_type": "stream",
     "text": [
      "(24, 24)\n",
      "(24, 24)\n",
      "(24, 24)\n"
     ]
    }
   ],
   "source": [
    "print(R_hh.shape)\n",
    "print(R_yh.shape)\n",
    "print((R_yh.T @ R_hh).shape)"
   ]
  },
  {
   "cell_type": "code",
   "execution_count": 61,
   "metadata": {},
   "outputs": [
    {
     "name": "stdout",
     "output_type": "stream",
     "text": [
      "(24, 14)\n",
      "(24,)\n",
      "(24,)\n"
     ]
    }
   ],
   "source": [
    "print(H_pilot[0].shape)\n",
    "print(H_pilot[0, :, 0].shape)\n",
    "print(X_pilot.shape)"
   ]
  },
  {
   "cell_type": "code",
   "execution_count": null,
   "metadata": {},
   "outputs": [],
   "source": []
  },
  {
   "cell_type": "code",
   "execution_count": 32,
   "metadata": {},
   "outputs": [
    {
     "name": "stdout",
     "output_type": "stream",
     "text": [
      "(40000, 24, 14)\n",
      "(40000, 24, 14)\n"
     ]
    }
   ],
   "source": [
    "print(perfect[:, pilot_idx].shape)\n",
    "print(np.random.randn(perfect.shape[0], num_pilots, num_timeslots).shape)"
   ]
  }
 ],
 "metadata": {
  "kernelspec": {
   "display_name": ".venv_win",
   "language": "python",
   "name": "python3"
  },
  "language_info": {
   "codemirror_mode": {
    "name": "ipython",
    "version": 3
   },
   "file_extension": ".py",
   "mimetype": "text/x-python",
   "name": "python",
   "nbconvert_exporter": "python",
   "pygments_lexer": "ipython3",
   "version": "3.12.7"
  }
 },
 "nbformat": 4,
 "nbformat_minor": 2
}
